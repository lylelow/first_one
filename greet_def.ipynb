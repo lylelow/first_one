{
  "nbformat": 4,
  "nbformat_minor": 0,
  "metadata": {
    "colab": {
      "provenance": [],
      "authorship_tag": "ABX9TyPj7NGBxDWGBF9gLAMB3Onb",
      "include_colab_link": true
    },
    "kernelspec": {
      "name": "python3",
      "display_name": "Python 3"
    },
    "language_info": {
      "name": "python"
    }
  },
  "cells": [
    {
      "cell_type": "markdown",
      "metadata": {
        "id": "view-in-github",
        "colab_type": "text"
      },
      "source": [
        "<a href=\"https://colab.research.google.com/github/lylelow/first_one/blob/main/greet_def.ipynb\" target=\"_parent\"><img src=\"https://colab.research.google.com/assets/colab-badge.svg\" alt=\"Open In Colab\"/></a>"
      ]
    },
    {
      "cell_type": "code",
      "execution_count": null,
      "metadata": {
        "id": "eF-pwj5cs6PB"
      },
      "outputs": [],
      "source": [
        "def greet(n):\n",
        "  for _ in range(n):\n",
        "    print(f\"{_:3}: Hello, :D\")\n",
        "\n",
        "greet(15)\n"
      ]
    }
  ]
}